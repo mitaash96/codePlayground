{
 "cells": [
  {
   "cell_type": "code",
   "execution_count": 81,
   "metadata": {},
   "outputs": [],
   "source": [
    "import polars as pl\n",
    "import pynvml\n",
    "import time"
   ]
  },
  {
   "cell_type": "code",
   "execution_count": 82,
   "metadata": {},
   "outputs": [],
   "source": [
    "def get_gpu_info():\n",
    "    pynvml.nvmlInit()\n",
    "    num_gpus = pynvml.nvmlDeviceGetCount()\n",
    "\n",
    "    gpu_info_list = []\n",
    "\n",
    "    for gpu_index in range(num_gpus):\n",
    "        gpu_handle = pynvml.nvmlDeviceGetHandleByIndex(gpu_index)\n",
    "        gpu_name = pynvml.nvmlDeviceGetName(gpu_handle)\n",
    "\n",
    "        memory_info = pynvml.nvmlDeviceGetMemoryInfo(gpu_handle)\n",
    "        total_memory = memory_info.total / (1024 * 1024)  # Convert to MB\n",
    "        used_memory = memory_info.used / (1024 * 1024)    # Convert to MB\n",
    "\n",
    "        gpu_info = {\n",
    "            'index': gpu_index,\n",
    "            'name': gpu_name,\n",
    "            'total_memory': total_memory,\n",
    "            'used_memory': used_memory\n",
    "        }\n",
    "\n",
    "        gpu_info_list.append(gpu_info)\n",
    "\n",
    "    pynvml.nvmlShutdown()\n",
    "\n",
    "    return gpu_info_list\n"
   ]
  },
  {
   "cell_type": "code",
   "execution_count": 84,
   "metadata": {},
   "outputs": [],
   "source": [
    "file = r\"C:\\Development\\ultimateNakMuay\\data\\ontology\\combat_sport_events.csv\""
   ]
  },
  {
   "cell_type": "code",
   "execution_count": 85,
   "metadata": {},
   "outputs": [
    {
     "name": "stdout",
     "output_type": "stream",
     "text": [
      "4.46 ms ± 66.7 µs per loop (mean ± std. dev. of 7 runs, 100 loops each)\n"
     ]
    }
   ],
   "source": [
    "%timeit pl.scan_csv(file).collect(streaming=True)"
   ]
  },
  {
   "cell_type": "code",
   "execution_count": null,
   "metadata": {},
   "outputs": [],
   "source": []
  }
 ],
 "metadata": {
  "kernelspec": {
   "display_name": "gpudna",
   "language": "python",
   "name": "python3"
  },
  "language_info": {
   "codemirror_mode": {
    "name": "ipython",
    "version": 3
   },
   "file_extension": ".py",
   "mimetype": "text/x-python",
   "name": "python",
   "nbconvert_exporter": "python",
   "pygments_lexer": "ipython3",
   "version": "3.11.4"
  },
  "orig_nbformat": 4
 },
 "nbformat": 4,
 "nbformat_minor": 2
}
