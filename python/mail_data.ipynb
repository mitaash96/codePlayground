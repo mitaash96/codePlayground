{
 "cells": [
  {
   "cell_type": "code",
   "execution_count": 54,
   "metadata": {},
   "outputs": [],
   "source": [
    "import mailbox\n",
    "import os\n",
    "import email.header\n",
    "import pandas as pd"
   ]
  },
  {
   "cell_type": "code",
   "execution_count": 55,
   "metadata": {},
   "outputs": [],
   "source": [
    "def decode_mime_words(encoded_str):\n",
    "    try:\n",
    "        s = ' '.join(part.decode() if charset is None else part.decode(charset)\n",
    "                        for part, charset in email.header.decode_header(encoded_str))\n",
    "        return s\n",
    "    except:\n",
    "        return encoded_str"
   ]
  },
  {
   "cell_type": "code",
   "execution_count": 109,
   "metadata": {},
   "outputs": [],
   "source": [
    "def is_bank(bankname, sender):\n",
    "    try:\n",
    "        if bankname in sender.lower():\n",
    "            return True\n",
    "        else:\n",
    "            return False\n",
    "    except:\n",
    "        return False"
   ]
  },
  {
   "cell_type": "code",
   "execution_count": 57,
   "metadata": {},
   "outputs": [],
   "source": [
    "def save_attachment(attachment, output_dir):\n",
    "    file_path = os.path.join(output_dir, attachment.get_filename())\n",
    "    with open(file_path, 'wb') as f:\n",
    "        f.write(attachment.get_payload(decode=True))"
   ]
  },
  {
   "cell_type": "code",
   "execution_count": 58,
   "metadata": {},
   "outputs": [],
   "source": [
    "mbox = mailbox.mbox(r\"C:\\Users\\paulm\\Downloads\\taxdata\\Takeout\\Mail\\All mail Including Spam and Trash.mbox\")"
   ]
  },
  {
   "cell_type": "code",
   "execution_count": 105,
   "metadata": {},
   "outputs": [
    {
     "data": {
      "text/plain": [
       "'<238686512.337793.1690608996951@ip-10-11-58-199.eu-west-1.compute.internal>'"
      ]
     },
     "execution_count": 105,
     "metadata": {},
     "output_type": "execute_result"
    }
   ],
   "source": [
    "mbox[0]['message-id']"
   ]
  },
  {
   "cell_type": "code",
   "execution_count": 116,
   "metadata": {},
   "outputs": [],
   "source": [
    "records = []\n",
    "for message in mbox:\n",
    "    # Accessing message attributes\n",
    "    subject = message['subject']\n",
    "    from_address = message['from']\n",
    "    date_sent = message['date']\n",
    "    msg_id = message['message-id']\n",
    "    records.append((msg_id, subject, from_address, date_sent))\n",
    "\n",
    "df = pd.DataFrame.from_records(records, columns=[\"id\", \"subject\", \"sender\", \"date\"])"
   ]
  },
  {
   "cell_type": "code",
   "execution_count": 120,
   "metadata": {},
   "outputs": [],
   "source": [
    "df['subject'] = df['subject'].apply(lambda x: decode_mime_words(x))\n",
    "df['sender'] = df['sender'].apply(lambda x: decode_mime_words(x))"
   ]
  },
  {
   "cell_type": "code",
   "execution_count": 121,
   "metadata": {},
   "outputs": [],
   "source": [
    "hdfc = df[df['sender'].apply(lambda x: is_bank('hdfc', x))]\n",
    "icici = df[df['sender'].apply(lambda x: is_bank('icici', x))]"
   ]
  },
  {
   "cell_type": "code",
   "execution_count": 122,
   "metadata": {},
   "outputs": [],
   "source": [
    "hdfc.reset_index(drop=True, inplace=True)\n",
    "icici.reset_index(drop=True, inplace=True)"
   ]
  },
  {
   "cell_type": "code",
   "execution_count": 123,
   "metadata": {},
   "outputs": [],
   "source": [
    "hdfc_statement = hdfc[hdfc['sender'].str.contains(\"hdfcbanksmartstatement@hdfcbank.net\")]"
   ]
  },
  {
   "cell_type": "code",
   "execution_count": 138,
   "metadata": {},
   "outputs": [
    {
     "name": "stderr",
     "output_type": "stream",
     "text": [
      "C:\\Users\\paulm\\AppData\\Local\\Temp\\ipykernel_30860\\1224432744.py:1: SettingWithCopyWarning: \n",
      "A value is trying to be set on a copy of a slice from a DataFrame.\n",
      "Try using .loc[row_indexer,col_indexer] = value instead\n",
      "\n",
      "See the caveats in the documentation: https://pandas.pydata.org/pandas-docs/stable/user_guide/indexing.html#returning-a-view-versus-a-copy\n",
      "  hdfc_statement['clean_date'] = hdfc_statement.date.apply(lambda x: pd.to_datetime(x).date())\n"
     ]
    }
   ],
   "source": [
    "hdfc_statement['clean_date'] = hdfc_statement.date.apply(lambda x: pd.to_datetime(x).date())"
   ]
  },
  {
   "cell_type": "code",
   "execution_count": 133,
   "metadata": {},
   "outputs": [],
   "source": [
    "icici_statement = icici[icici.subject.str.contains('Bank Statement')]"
   ]
  },
  {
   "cell_type": "code",
   "execution_count": 139,
   "metadata": {},
   "outputs": [
    {
     "name": "stderr",
     "output_type": "stream",
     "text": [
      "C:\\Users\\paulm\\AppData\\Local\\Temp\\ipykernel_30860\\1707076184.py:1: SettingWithCopyWarning: \n",
      "A value is trying to be set on a copy of a slice from a DataFrame.\n",
      "Try using .loc[row_indexer,col_indexer] = value instead\n",
      "\n",
      "See the caveats in the documentation: https://pandas.pydata.org/pandas-docs/stable/user_guide/indexing.html#returning-a-view-versus-a-copy\n",
      "  icici_statement['clean_date'] = icici_statement.date.apply(lambda x: pd.to_datetime(x).date())\n"
     ]
    }
   ],
   "source": [
    "icici_statement['clean_date'] = icici_statement.date.apply(lambda x: pd.to_datetime(x).date())"
   ]
  },
  {
   "cell_type": "code",
   "execution_count": 143,
   "metadata": {},
   "outputs": [],
   "source": [
    "is_id = icici_statement[icici_statement['clean_date'] > pd.to_datetime('2021-04-01').date()].id.to_list()"
   ]
  },
  {
   "cell_type": "code",
   "execution_count": 145,
   "metadata": {},
   "outputs": [],
   "source": [
    "hs_id = hdfc_statement[hdfc_statement['clean_date'] > pd.to_datetime('2021-04-01').date()].id.to_list()"
   ]
  },
  {
   "cell_type": "code",
   "execution_count": 146,
   "metadata": {},
   "outputs": [
    {
     "name": "stdout",
     "output_type": "stream",
     "text": [
      "ICICI Statement_2023MTH06_906567883.pdf\n",
      "HDFC Mitaash_Paul_31052023_161850948.pdf\n",
      "HDFC Mitaash_Paul_30062023_192918217.pdf\n",
      "ICICI Statement_2023MTH05_906567883.pdf\n",
      "ICICI Statement_APR2022_883906567.pdf\n",
      "ICICI Statement_2023MTH04_906567883.pdf\n",
      "HDFC Mitaash_Paul_30042023_222208643.pdf\n",
      "HDFC Mitaash_Paul_31032023_021731303.pdf\n",
      "ICICI Statement_2023MTH03_906567883.pdf\n",
      "HDFC Mitaash_Paul_28022023_005415795.pdf\n",
      "ICICI Statement_2023MTH02_906567883.pdf\n",
      "ICICI Statement_2023MTH01_906567883.pdf\n",
      "HDFC Mitaash_Paul_31012023_151856967.pdf\n",
      "HDFC Mitaash_Paul_31122022_004656744.pdf\n",
      "HDFC Mitaash_Paul_30112022_175113348.pdf\n",
      "HDFC Mitaash_Paul_31102022_191351866.pdf\n",
      "ICICI Statement_2022MTH12_906567883.pdf\n",
      "ICICI Statement_2022MTH11_906567883.pdf\n",
      "HDFC Mitaash_Paul_30092022_205252923.pdf\n",
      "ICICI Statement_2022MTH07_906567883.pdf\n",
      "HDFC Mitaash_Paul_31082022_142530514.pdf\n",
      "ICICI Statement_2022MTH04_906567883.pdf\n",
      "ICICI Statement_2021MTH12_906567883.pdf\n",
      "ICICI Statement_2021MTH11_906567883.pdf\n",
      "ICICI Statement_2022MTH08_906567883.pdf\n",
      "ICICI Statement_2022MTH02_906567883.pdf\n",
      "ICICI Statement_2022MTH10_906567883.pdf\n",
      "ICICI Statement_SEP2020_883906567.pdf\n",
      "ICICI Statement_2022MTH01_906567883.pdf\n",
      "ICICI Statement_2021MTH10_906567883.pdf\n",
      "ICICI Statement_2022MTH06_906567883.pdf\n",
      "ICICI Statement_2021MTH08_906567883.pdf\n",
      "ICICI Statement_2021MTH07_906567883.pdf\n",
      "ICICI Statement_AUG2020_883906567.pdf\n",
      "ICICI Statement_2021MTH09_906567883.pdf\n",
      "ICICI Statement_2022MTH05_906567883.pdf\n",
      "ICICI Statement_2021MTH05_906567883.pdf\n",
      "ICICI Statement_2021MTH04_906567883.pdf\n",
      "ICICI Statement_2021MTH06_906567883.pdf\n",
      "ICICI Statement_2021MTH03_906567883.pdf\n",
      "ICICI Statement_2022MTH09_906567883.pdf\n",
      "ICICI Statement_2022MTH03_906567883.pdf\n"
     ]
    }
   ],
   "source": [
    "for message in mbox:\n",
    "    # Accessing message attributes\n",
    "    id = message['message-id']\n",
    "    if id in is_id:\n",
    "        for part in message.walk():\n",
    "            filename = part.get_filename()\n",
    "            if filename:\n",
    "                print(\"ICICI\", filename)\n",
    "                save_attachment(part, r\"C:\\Users\\paulm\\Downloads\\taxdata\\bank_statements\\icici\")\n",
    "    elif id in hs_id:\n",
    "        for part in message.walk():\n",
    "            filename = part.get_filename()\n",
    "            if filename:\n",
    "                print(\"HDFC\", filename)\n",
    "                save_attachment(part, r\"C:\\Users\\paulm\\Downloads\\taxdata\\bank_statements\\hdfc\")"
   ]
  },
  {
   "cell_type": "code",
   "execution_count": 1,
   "metadata": {},
   "outputs": [
    {
     "name": "stdout",
     "output_type": "stream",
     "text": [
      "PDF 'Mitaash_Paul_28022023_005415795.pdf' successfully unlocked and saved to 'C:\\Users\\paulm\\Downloads\\taxdata\\bank_statements\\hdfc_unlocked\\Mitaash_Paul_28022023_005415795.pdf'\n",
      "PDF 'Mitaash_Paul_30042023_222208643.pdf' successfully unlocked and saved to 'C:\\Users\\paulm\\Downloads\\taxdata\\bank_statements\\hdfc_unlocked\\Mitaash_Paul_30042023_222208643.pdf'\n",
      "PDF 'Mitaash_Paul_30062023_192918217.pdf' successfully unlocked and saved to 'C:\\Users\\paulm\\Downloads\\taxdata\\bank_statements\\hdfc_unlocked\\Mitaash_Paul_30062023_192918217.pdf'\n",
      "PDF 'Mitaash_Paul_30092022_205252923.pdf' successfully unlocked and saved to 'C:\\Users\\paulm\\Downloads\\taxdata\\bank_statements\\hdfc_unlocked\\Mitaash_Paul_30092022_205252923.pdf'\n",
      "PDF 'Mitaash_Paul_30112022_175113348.pdf' successfully unlocked and saved to 'C:\\Users\\paulm\\Downloads\\taxdata\\bank_statements\\hdfc_unlocked\\Mitaash_Paul_30112022_175113348.pdf'\n",
      "PDF 'Mitaash_Paul_31012023_151856967.pdf' successfully unlocked and saved to 'C:\\Users\\paulm\\Downloads\\taxdata\\bank_statements\\hdfc_unlocked\\Mitaash_Paul_31012023_151856967.pdf'\n",
      "PDF 'Mitaash_Paul_31032023_021731303.pdf' successfully unlocked and saved to 'C:\\Users\\paulm\\Downloads\\taxdata\\bank_statements\\hdfc_unlocked\\Mitaash_Paul_31032023_021731303.pdf'\n",
      "PDF 'Mitaash_Paul_31052023_161850948.pdf' successfully unlocked and saved to 'C:\\Users\\paulm\\Downloads\\taxdata\\bank_statements\\hdfc_unlocked\\Mitaash_Paul_31052023_161850948.pdf'\n",
      "PDF 'Mitaash_Paul_31082022_142530514.pdf' successfully unlocked and saved to 'C:\\Users\\paulm\\Downloads\\taxdata\\bank_statements\\hdfc_unlocked\\Mitaash_Paul_31082022_142530514.pdf'\n",
      "PDF 'Mitaash_Paul_31102022_191351866.pdf' successfully unlocked and saved to 'C:\\Users\\paulm\\Downloads\\taxdata\\bank_statements\\hdfc_unlocked\\Mitaash_Paul_31102022_191351866.pdf'\n",
      "PDF 'Mitaash_Paul_31122022_004656744.pdf' successfully unlocked and saved to 'C:\\Users\\paulm\\Downloads\\taxdata\\bank_statements\\hdfc_unlocked\\Mitaash_Paul_31122022_004656744.pdf'\n",
      "PDF 'Statement_2021MTH03_906567883.pdf' successfully unlocked and saved to 'C:\\Users\\paulm\\Downloads\\taxdata\\bank_statements\\icici_unlocked\\Statement_2021MTH03_906567883.pdf'\n",
      "PDF 'Statement_2021MTH04_906567883.pdf' successfully unlocked and saved to 'C:\\Users\\paulm\\Downloads\\taxdata\\bank_statements\\icici_unlocked\\Statement_2021MTH04_906567883.pdf'\n",
      "PDF 'Statement_2021MTH05_906567883.pdf' successfully unlocked and saved to 'C:\\Users\\paulm\\Downloads\\taxdata\\bank_statements\\icici_unlocked\\Statement_2021MTH05_906567883.pdf'\n",
      "PDF 'Statement_2021MTH06_906567883.pdf' successfully unlocked and saved to 'C:\\Users\\paulm\\Downloads\\taxdata\\bank_statements\\icici_unlocked\\Statement_2021MTH06_906567883.pdf'\n",
      "PDF 'Statement_2021MTH07_906567883.pdf' successfully unlocked and saved to 'C:\\Users\\paulm\\Downloads\\taxdata\\bank_statements\\icici_unlocked\\Statement_2021MTH07_906567883.pdf'\n",
      "PDF 'Statement_2021MTH08_906567883.pdf' successfully unlocked and saved to 'C:\\Users\\paulm\\Downloads\\taxdata\\bank_statements\\icici_unlocked\\Statement_2021MTH08_906567883.pdf'\n",
      "PDF 'Statement_2021MTH09_906567883.pdf' successfully unlocked and saved to 'C:\\Users\\paulm\\Downloads\\taxdata\\bank_statements\\icici_unlocked\\Statement_2021MTH09_906567883.pdf'\n",
      "PDF 'Statement_2021MTH10_906567883.pdf' successfully unlocked and saved to 'C:\\Users\\paulm\\Downloads\\taxdata\\bank_statements\\icici_unlocked\\Statement_2021MTH10_906567883.pdf'\n",
      "PDF 'Statement_2021MTH11_906567883.pdf' successfully unlocked and saved to 'C:\\Users\\paulm\\Downloads\\taxdata\\bank_statements\\icici_unlocked\\Statement_2021MTH11_906567883.pdf'\n",
      "PDF 'Statement_2021MTH12_906567883.pdf' successfully unlocked and saved to 'C:\\Users\\paulm\\Downloads\\taxdata\\bank_statements\\icici_unlocked\\Statement_2021MTH12_906567883.pdf'\n"
     ]
    },
    {
     "name": "stderr",
     "output_type": "stream",
     "text": [
      "ignore '/Perms' verify failed\n",
      "ignore '/Perms' verify failed\n",
      "ignore '/Perms' verify failed\n"
     ]
    },
    {
     "name": "stdout",
     "output_type": "stream",
     "text": [
      "PDF 'Statement_2022MTH01_906567883.pdf' successfully unlocked and saved to 'C:\\Users\\paulm\\Downloads\\taxdata\\bank_statements\\icici_unlocked\\Statement_2022MTH01_906567883.pdf'\n",
      "PDF 'Statement_2022MTH02_906567883.pdf' successfully unlocked and saved to 'C:\\Users\\paulm\\Downloads\\taxdata\\bank_statements\\icici_unlocked\\Statement_2022MTH02_906567883.pdf'\n",
      "PDF 'Statement_2022MTH03_906567883.pdf' successfully unlocked and saved to 'C:\\Users\\paulm\\Downloads\\taxdata\\bank_statements\\icici_unlocked\\Statement_2022MTH03_906567883.pdf'\n",
      "PDF 'Statement_2022MTH04_906567883.pdf' successfully unlocked and saved to 'C:\\Users\\paulm\\Downloads\\taxdata\\bank_statements\\icici_unlocked\\Statement_2022MTH04_906567883.pdf'\n",
      "PDF 'Statement_2022MTH05_906567883.pdf' successfully unlocked and saved to 'C:\\Users\\paulm\\Downloads\\taxdata\\bank_statements\\icici_unlocked\\Statement_2022MTH05_906567883.pdf'\n",
      "PDF 'Statement_2022MTH06_906567883.pdf' successfully unlocked and saved to 'C:\\Users\\paulm\\Downloads\\taxdata\\bank_statements\\icici_unlocked\\Statement_2022MTH06_906567883.pdf'\n",
      "PDF 'Statement_2022MTH07_906567883.pdf' successfully unlocked and saved to 'C:\\Users\\paulm\\Downloads\\taxdata\\bank_statements\\icici_unlocked\\Statement_2022MTH07_906567883.pdf'\n"
     ]
    },
    {
     "name": "stderr",
     "output_type": "stream",
     "text": [
      "ignore '/Perms' verify failed\n",
      "ignore '/Perms' verify failed\n",
      "ignore '/Perms' verify failed\n",
      "ignore '/Perms' verify failed\n",
      "ignore '/Perms' verify failed\n",
      "ignore '/Perms' verify failed\n",
      "ignore '/Perms' verify failed\n",
      "ignore '/Perms' verify failed\n"
     ]
    },
    {
     "name": "stdout",
     "output_type": "stream",
     "text": [
      "PDF 'Statement_2022MTH08_906567883.pdf' successfully unlocked and saved to 'C:\\Users\\paulm\\Downloads\\taxdata\\bank_statements\\icici_unlocked\\Statement_2022MTH08_906567883.pdf'\n",
      "PDF 'Statement_2022MTH09_906567883.pdf' successfully unlocked and saved to 'C:\\Users\\paulm\\Downloads\\taxdata\\bank_statements\\icici_unlocked\\Statement_2022MTH09_906567883.pdf'\n",
      "PDF 'Statement_2022MTH10_906567883.pdf' successfully unlocked and saved to 'C:\\Users\\paulm\\Downloads\\taxdata\\bank_statements\\icici_unlocked\\Statement_2022MTH10_906567883.pdf'\n",
      "PDF 'Statement_2022MTH11_906567883.pdf' successfully unlocked and saved to 'C:\\Users\\paulm\\Downloads\\taxdata\\bank_statements\\icici_unlocked\\Statement_2022MTH11_906567883.pdf'\n",
      "PDF 'Statement_2022MTH12_906567883.pdf' successfully unlocked and saved to 'C:\\Users\\paulm\\Downloads\\taxdata\\bank_statements\\icici_unlocked\\Statement_2022MTH12_906567883.pdf'\n",
      "PDF 'Statement_2023MTH01_906567883.pdf' successfully unlocked and saved to 'C:\\Users\\paulm\\Downloads\\taxdata\\bank_statements\\icici_unlocked\\Statement_2023MTH01_906567883.pdf'\n",
      "PDF 'Statement_2023MTH02_906567883.pdf' successfully unlocked and saved to 'C:\\Users\\paulm\\Downloads\\taxdata\\bank_statements\\icici_unlocked\\Statement_2023MTH02_906567883.pdf'\n"
     ]
    },
    {
     "name": "stderr",
     "output_type": "stream",
     "text": [
      "ignore '/Perms' verify failed\n",
      "ignore '/Perms' verify failed\n",
      "ignore '/Perms' verify failed\n"
     ]
    },
    {
     "name": "stdout",
     "output_type": "stream",
     "text": [
      "PDF 'Statement_2023MTH03_906567883.pdf' successfully unlocked and saved to 'C:\\Users\\paulm\\Downloads\\taxdata\\bank_statements\\icici_unlocked\\Statement_2023MTH03_906567883.pdf'\n",
      "PDF 'Statement_2023MTH04_906567883.pdf' successfully unlocked and saved to 'C:\\Users\\paulm\\Downloads\\taxdata\\bank_statements\\icici_unlocked\\Statement_2023MTH04_906567883.pdf'\n",
      "PDF 'Statement_2023MTH05_906567883.pdf' successfully unlocked and saved to 'C:\\Users\\paulm\\Downloads\\taxdata\\bank_statements\\icici_unlocked\\Statement_2023MTH05_906567883.pdf'\n",
      "PDF 'Statement_2023MTH06_906567883.pdf' successfully unlocked and saved to 'C:\\Users\\paulm\\Downloads\\taxdata\\bank_statements\\icici_unlocked\\Statement_2023MTH06_906567883.pdf'\n",
      "PDF 'Statement_APR2022_883906567.pdf' successfully unlocked and saved to 'C:\\Users\\paulm\\Downloads\\taxdata\\bank_statements\\icici_unlocked\\Statement_APR2022_883906567.pdf'\n",
      "PDF 'Statement_AUG2020_883906567.pdf' successfully unlocked and saved to 'C:\\Users\\paulm\\Downloads\\taxdata\\bank_statements\\icici_unlocked\\Statement_AUG2020_883906567.pdf'\n",
      "PDF 'Statement_SEP2020_883906567.pdf' successfully unlocked and saved to 'C:\\Users\\paulm\\Downloads\\taxdata\\bank_statements\\icici_unlocked\\Statement_SEP2020_883906567.pdf'\n"
     ]
    }
   ],
   "source": [
    "import os\n",
    "import glob\n",
    "import PyPDF2\n",
    "\n",
    "def unlock_pdf(input_folder, output_folder, password):\n",
    "    os.makedirs(output_folder, exist_ok=True)\n",
    "\n",
    "    pdf_files = glob.glob(os.path.join(input_folder, '*.pdf'))\n",
    "\n",
    "    for input_path in pdf_files:\n",
    "        file_name = os.path.basename(input_path)\n",
    "        output_path = os.path.join(output_folder, file_name)\n",
    "\n",
    "        with open(input_path, 'rb') as file:\n",
    "            pdf = PyPDF2.PdfReader(file)\n",
    "            if pdf.decrypt(password):\n",
    "                writer = PyPDF2.PdfWriter()\n",
    "                for page_num in range(len(pdf.pages)):\n",
    "                    page = pdf.pages[page_num]\n",
    "                    writer.add_page(page)\n",
    "\n",
    "                with open(output_path, 'wb') as output_file:\n",
    "                    writer.write(output_file)\n",
    "                print(f\"PDF '{file_name}' successfully unlocked and saved to '{output_path}'\")\n",
    "            else:\n",
    "                print(f\"Incorrect password for PDF '{file_name}'. Unable to unlock the PDF.\")\n",
    "\n",
    "\n",
    "unlock_pdf(\n",
    "    input_folder=r\"C:\\Users\\paulm\\Downloads\\taxdata\\bank_statements\\hdfc\",\n",
    "    output_folder=r\"C:\\Users\\paulm\\Downloads\\taxdata\\bank_statements\\hdfc_unlocked\",\n",
    "    password='47004974')\n",
    "\n",
    "unlock_pdf(\n",
    "    input_folder=r\"C:\\Users\\paulm\\Downloads\\taxdata\\bank_statements\\icici\",\n",
    "    output_folder=r\"C:\\Users\\paulm\\Downloads\\taxdata\\bank_statements\\icici_unlocked\",\n",
    "    password='180401552967')"
   ]
  },
  {
   "cell_type": "code",
   "execution_count": null,
   "metadata": {},
   "outputs": [],
   "source": []
  }
 ],
 "metadata": {
  "kernelspec": {
   "display_name": "maildata",
   "language": "python",
   "name": "python3"
  },
  "language_info": {
   "codemirror_mode": {
    "name": "ipython",
    "version": 3
   },
   "file_extension": ".py",
   "mimetype": "text/x-python",
   "name": "python",
   "nbconvert_exporter": "python",
   "pygments_lexer": "ipython3",
   "version": "3.11.4"
  },
  "orig_nbformat": 4
 },
 "nbformat": 4,
 "nbformat_minor": 2
}
