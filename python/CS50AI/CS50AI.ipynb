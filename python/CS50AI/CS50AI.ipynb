{
 "cells": [
  {
   "cell_type": "markdown",
   "metadata": {},
   "source": [
    "# Harvard's CS50 AI\n",
    "https://learning.edx.org/course/course-v1:HarvardX+CS50AI+1T2020/block-v1:HarvardX+CS50AI+1T2020+type@sequential+block@99364b31367c43e6a1c2146ed9a0b154/block-v1:HarvardX+CS50AI+1T2020+type@vertical+block@abe10e60ff224bd5bc0b33e37ab607cd\n",
    "\n",
    "timestamp: 36:44\n",
    "\n",
    "# BFS vs DFS: finite maze problem"
   ]
  },
  {
   "cell_type": "code",
   "execution_count": 1,
   "metadata": {},
   "outputs": [],
   "source": [
    "class node():\n",
    "    def __init__(self, state, parent, action):\n",
    "        self.state= state\n",
    "        self.parent= parent\n",
    "        self.action= action"
   ]
  },
  {
   "cell_type": "code",
   "execution_count": 2,
   "metadata": {},
   "outputs": [],
   "source": [
    "# DFS uses stack\n",
    "\n",
    "class stackfrontier():\n",
    "    def __init__(self):\n",
    "        self.frontier= []\n",
    "    def add(self, node):\n",
    "        self.frontier.append(node)\n",
    "    def contains_state(self, state):\n",
    "        return any(node.state== state for node in self.frontier)\n",
    "    def empty(self):\n",
    "        return len(self.frontier)== 0\n",
    "    def remove(self):\n",
    "        if self.empty():\n",
    "            raise Exception('frontier blank')\n",
    "        else:\n",
    "            node= self.frontier[-1]\n",
    "            self.frontier= self.frontier[:-1]\n",
    "            return node"
   ]
  },
  {
   "cell_type": "code",
   "execution_count": 3,
   "metadata": {},
   "outputs": [],
   "source": [
    "# BFS uses Queue\n",
    "\n",
    "class queuefrontier(stackfrontier):\n",
    "    def remove(self):\n",
    "        if self.empty():\n",
    "            raise Exception('frontier blank')\n",
    "        else:\n",
    "            node= self.frontier[0]\n",
    "            self.frontier= self.frontier[1:]\n",
    "            return node"
   ]
  },
  {
   "cell_type": "code",
   "execution_count": null,
   "metadata": {},
   "outputs": [],
   "source": []
  }
 ],
 "metadata": {
  "interpreter": {
   "hash": "427a62fac0819ccce0f03f81abed2b41dbb70c95dcd9b668ee48ddefcc4c4ac1"
  },
  "kernelspec": {
   "display_name": "Python 3.8.8 ('base')",
   "language": "python",
   "name": "python3"
  },
  "language_info": {
   "codemirror_mode": {
    "name": "ipython",
    "version": 3
   },
   "file_extension": ".py",
   "mimetype": "text/x-python",
   "name": "python",
   "nbconvert_exporter": "python",
   "pygments_lexer": "ipython3",
   "version": "3.8.8"
  },
  "orig_nbformat": 4
 },
 "nbformat": 4,
 "nbformat_minor": 2
}
