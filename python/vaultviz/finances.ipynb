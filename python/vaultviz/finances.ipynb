{
 "cells": [
  {
   "cell_type": "code",
   "execution_count": 80,
   "metadata": {},
   "outputs": [],
   "source": [
    "import pandas as pd\n",
    "import polars as pl"
   ]
  },
  {
   "cell_type": "code",
   "execution_count": 81,
   "metadata": {},
   "outputs": [],
   "source": [
    "finances = pl.from_pandas(pd.read_excel(r\"C:\\Users\\paulm\\OneDrive\\Documents\\Finances.xlsx\", dtype=str, sheet_name=\"Monthly\", header=None))\n",
    "dtm_format = \"%Y-%m-%d %H:%M:%S\"\n",
    "days_left = finances.filter(pl.col('0').str.starts_with('Days'))['2'].cast(pl.Int32).to_list()[0]\n",
    "min_salary = finances.filter(pl.col('4').str.starts_with('salary'))['5'].cast(pl.Float64).to_list()[0]"
   ]
  },
  {
   "cell_type": "code",
   "execution_count": 82,
   "metadata": {},
   "outputs": [],
   "source": [
    "bal = finances.select('0','2')[:4]\\\n",
    "    .rename({'0': 'account', '2': 'balance'})\\\n",
    "    .with_columns(\n",
    "        pl.col('balance').cast(pl.Float64),\n",
    "        pl.lit(pd.Timestamp.today().strftime(dtm_format)).alias('udt_dtm')\n",
    "        )\n",
    "\n",
    "if days_left >= 31:\n",
    "    bal = bal.with_columns(\n",
    "        pl.when(pl.col('account').str.contains(\"HSBC\"))\n",
    "        .then(pl.col(\"balance\")-min_salary)\n",
    "        .otherwise(pl.col(\"balance\"))\n",
    "        .alias(\"balance\")\n",
    "    )"
   ]
  },
  {
   "cell_type": "code",
   "execution_count": 83,
   "metadata": {},
   "outputs": [],
   "source": [
    "cards = finances.filter(pl.col('1').str.contains('CC')).select('1','2').rename({'1': 'credit_card', '2': 'outstanding'})\\\n",
    "    .with_columns(\n",
    "        pl.col('outstanding').cast(pl.Float64),\n",
    "        pl.lit(pd.Timestamp.today().strftime(dtm_format)).alias('udt_dtm')\n",
    "        )"
   ]
  },
  {
   "cell_type": "code",
   "execution_count": 84,
   "metadata": {},
   "outputs": [],
   "source": [
    "exp = finances.filter(\n",
    "    (pl.col('0').cast(pl.Int32, strict=False).is_not_null())\n",
    "    & (~pl.col('1').str.contains('CC'))\n",
    "    )\\\n",
    "    .select('1', '2')\\\n",
    "    .rename({'1': 'expenditure', '2': 'amount'})\\\n",
    "    .with_columns(\n",
    "        pl.col('amount').cast(pl.Float64),\n",
    "        pl.lit(pd.Timestamp.today().strftime(dtm_format)).alias('udt_dtm')\n",
    "        )"
   ]
  },
  {
   "cell_type": "code",
   "execution_count": 85,
   "metadata": {},
   "outputs": [],
   "source": [
    "sav = finances.filter(pl.col('4').str.to_lowercase()=='expected savings').select('5').rename({'5':'expected_savings'})\\\n",
    ".with_columns(\n",
    "        pl.col('expected_savings').cast(pl.Float64),\n",
    "        pl.lit(pd.Timestamp.today().strftime(dtm_format)).alias('udt_dtm')\n",
    "        )"
   ]
  },
  {
   "cell_type": "code",
   "execution_count": 129,
   "metadata": {},
   "outputs": [],
   "source": [
    "def stack_hist(df, key):\n",
    "    hist = pl.read_parquet(f\"datacache/{key}.parquet\")\n",
    "    for col in hist.columns:\n",
    "        hist = hist.with_columns(pl.col(col).cast(df[col].dtype))\n",
    "    df = hist.vstack(df)\n",
    "    df.write_parquet(f\"datacache/{key}.parquet\")\n",
    "    return df.unique()"
   ]
  },
  {
   "cell_type": "code",
   "execution_count": 130,
   "metadata": {},
   "outputs": [],
   "source": [
    "hist_dict = {\n",
    "    \"monthly_balance\": bal,\n",
    "    \"expenditure\": exp,\n",
    "    \"card_spends\": cards,\n",
    "    \"savings\": sav\n",
    "}"
   ]
  },
  {
   "cell_type": "code",
   "execution_count": 131,
   "metadata": {},
   "outputs": [],
   "source": [
    "hist_dict = {\n",
    "    k: stack_hist(hist_dict[k], k) for k in hist_dict.keys()\n",
    "}"
   ]
  }
 ],
 "metadata": {
  "kernelspec": {
   "display_name": "vaultviz",
   "language": "python",
   "name": "python3"
  },
  "language_info": {
   "codemirror_mode": {
    "name": "ipython",
    "version": 3
   },
   "file_extension": ".py",
   "mimetype": "text/x-python",
   "name": "python",
   "nbconvert_exporter": "python",
   "pygments_lexer": "ipython3",
   "version": "3.11.4"
  },
  "orig_nbformat": 4
 },
 "nbformat": 4,
 "nbformat_minor": 2
}
