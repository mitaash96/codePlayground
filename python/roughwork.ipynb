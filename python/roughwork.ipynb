{
 "cells": [
  {
   "cell_type": "code",
   "execution_count": 10,
   "metadata": {},
   "outputs": [
    {
     "data": {
      "text/plain": [
       "True"
      ]
     },
     "execution_count": 10,
     "metadata": {},
     "output_type": "execute_result"
    }
   ],
   "source": [
    "l= [[0,1,2], [3,4,5]]\n",
    "1 in l[0]"
   ]
  },
  {
   "cell_type": "code",
   "execution_count": 13,
   "metadata": {},
   "outputs": [
    {
     "name": "stdout",
     "output_type": "stream",
     "text": [
      "[0, 1, 2, 3, 4, 5, 6, 7, 8, 9]\n"
     ]
    }
   ],
   "source": [
    "print([i for i in range(10)])"
   ]
  },
  {
   "cell_type": "code",
   "execution_count": 16,
   "metadata": {},
   "outputs": [
    {
     "name": "stdout",
     "output_type": "stream",
     "text": [
      "[[0, 0, 0], [0, 0, 1], [0, 1, 0], [0, 1, 1], [1, 0, 0], [1, 0, 1], [1, 1, 0], [1, 1, 1]]\n"
     ]
    }
   ],
   "source": [
    "x = int(input('x= '))\n",
    "y = int(input('y= '))\n",
    "z = int(input('z= '))\n",
    "n = int(input('n= '))\n",
    "print([[X,Y,Z] for X in range(x+1) for Y in range(y+1) for Z in range(z+1) if X+Y+Z!= n])"
   ]
  },
  {
   "cell_type": "code",
   "execution_count": 17,
   "metadata": {},
   "outputs": [
    {
     "name": "stdout",
     "output_type": "stream",
     "text": [
      "1\n"
     ]
    }
   ],
   "source": [
    "l1= int(input())\n",
    "r1= input().split()\n",
    "l2= int(input())\n",
    "r2= input().split()\n",
    "\n",
    "print(len(set(r1).difference(set(r2))))"
   ]
  },
  {
   "cell_type": "code",
   "execution_count": 20,
   "metadata": {},
   "outputs": [
    {
     "data": {
      "text/plain": [
       "{1, 2, 5, 6}"
      ]
     },
     "execution_count": 20,
     "metadata": {},
     "output_type": "execute_result"
    }
   ],
   "source": [
    "set((1,2,3)).symmetric_difference((3,5,6))"
   ]
  },
  {
   "cell_type": "code",
   "execution_count": 21,
   "metadata": {},
   "outputs": [
    {
     "data": {
      "text/plain": [
       "{'10', '11', '21', '4', '5', '55', '7', '9'}"
      ]
     },
     "execution_count": 21,
     "metadata": {},
     "output_type": "execute_result"
    }
   ],
   "source": [
    "set('1 2 3 4 5 6 7 8 9'.split()).symmetric_difference('10 1 2 3 11 21 55 6 8'.split())"
   ]
  },
  {
   "cell_type": "code",
   "execution_count": 22,
   "metadata": {},
   "outputs": [
    {
     "name": "stdout",
     "output_type": "stream",
     "text": [
      "0\n"
     ]
    }
   ],
   "source": [
    "l1= int(input())\n",
    "r1= input().split()\n",
    "l2= int(input())\n",
    "r2= input().split()\n",
    "\n",
    "print(len(set(r1).symmetric_difference(set(r2))))"
   ]
  },
  {
   "cell_type": "code",
   "execution_count": 24,
   "metadata": {},
   "outputs": [
    {
     "name": "stdout",
     "output_type": "stream",
     "text": [
      "{'3'}\n"
     ]
    }
   ],
   "source": [
    "l1= int(input())\n",
    "s1= set(input().split())\n",
    "i= int(input())\n",
    "for _ in range(i):\n",
    "    cond= input().split()[0]\n",
    "    s2= set(input().split())\n",
    "    if cond== 'intersection_update':\n",
    "        s1.intersection_update(s2)\n",
    "    elif cond== 'difference_update':\n",
    "        s1.difference_update(s2)\n",
    "    elif cond== 'symmetric_difference_update':\n",
    "        s1.symmetric_difference_update(s2)\n",
    "    elif cond== 'update':\n",
    "        s1.update(s2)\n",
    "\n",
    "\n",
    "print(sum(s1))"
   ]
  },
  {
   "cell_type": "code",
   "execution_count": 37,
   "metadata": {},
   "outputs": [
    {
     "name": "stdout",
     "output_type": "stream",
     "text": [
      "{'3', '5', '8', '6', '11', '9', '4', '7', '2', '1'}\n",
      "{'3', '5', '8', '6', '11', '66', '9', '4', '7', '2', '55', '1'}\n"
     ]
    }
   ],
   "source": [
    "s1= set('1 2 3 4 5 6 7 8 9 10 11 12 13 14 24 52'.split())\n",
    "s2= set('2 3 5 6 8 9 1 4 7 11'.split())\n",
    "s3= set('55 66'.split())\n",
    "\n",
    "s1.intersection_update(s2)\n",
    "print(s1)\n",
    "s1.update(s3)\n",
    "print(s1)"
   ]
  },
  {
   "cell_type": "code",
   "execution_count": 54,
   "metadata": {},
   "outputs": [
    {
     "name": "stdout",
     "output_type": "stream",
     "text": [
      "3\n"
     ]
    }
   ],
   "source": [
    "k, rooms, single, multiple = input(), input().split(), set(), set()\n",
    "for room in rooms: single.add(room) if room not in single else multiple.add(room)\n",
    "\n",
    "print(single.difference(multiple).pop())"
   ]
  },
  {
   "cell_type": "code",
   "execution_count": 1,
   "metadata": {},
   "outputs": [
    {
     "data": {
      "text/plain": [
       "-3550055125485641917"
      ]
     },
     "execution_count": 1,
     "metadata": {},
     "output_type": "execute_result"
    }
   ],
   "source": [
    "hash((1,2))"
   ]
  },
  {
   "cell_type": "code",
   "execution_count": 29,
   "metadata": {},
   "outputs": [
    {
     "name": "stdout",
     "output_type": "stream",
     "text": [
      "90.0\n"
     ]
    },
    {
     "data": {
      "text/plain": [
       "'\\nfor i in range(n):\\n    inp= tuple(map(lambda x: int(x) if x.isnumeric() else x, input().split()))\\n    s= std(inp[0], inp[1], inp[2], inp[3])\\n    nt.append(s)\\n'"
      ]
     },
     "execution_count": 29,
     "metadata": {},
     "output_type": "execute_result"
    }
   ],
   "source": [
    "from collections import namedtuple\n",
    "\n",
    "n= int(input())\n",
    "marks= 0\n",
    "std= namedtuple('std', input())\n",
    "for i in range(n):\n",
    "    inp= tuple(map(lambda x: int(x) if x.isnumeric() else x, input().split()))\n",
    "    marks+= std(inp[0], inp[1], inp[2], inp[3]).MARKS\n",
    "\n",
    "print((marks/n).__round__(2))"
   ]
  },
  {
   "cell_type": "code",
   "execution_count": 53,
   "metadata": {},
   "outputs": [],
   "source": [
    "from collections import OrderedDict\n",
    "o1= OrderedDict()\n",
    "def odops(ops: str):\n",
    "    if ' '.join(ops.split()[:-1]) in o1.keys():\n",
    "        o1[' '.join(ops.split()[:-1])]+= int(ops.split()[-1])\n",
    "    else:\n",
    "        o1[' '.join(ops.split()[:-1])]= int(ops.split()[-1])"
   ]
  },
  {
   "cell_type": "code",
   "execution_count": 59,
   "metadata": {},
   "outputs": [
    {
     "name": "stdout",
     "output_type": "stream",
     "text": [
      "banana\n",
      "banana 13\n",
      "banana fries 1\n"
     ]
    }
   ],
   "source": [
    "for i in range(int(input())):\n",
    "    odops(input())\n",
    "for _ in o1.keys():\n",
    "    print('{} {}'.format(_, o1[_]))"
   ]
  },
  {
   "cell_type": "code",
   "execution_count": 76,
   "metadata": {},
   "outputs": [
    {
     "name": "stdout",
     "output_type": "stream",
     "text": [
      "3\n",
      "2 1 1\n"
     ]
    }
   ],
   "source": [
    "d= {}\n",
    "for i in range(int(input())):\n",
    "    w= input()\n",
    "    if w not in d.keys():\n",
    "        d[w]= 1\n",
    "    else:\n",
    "        d[w]+= 1\n",
    "print(len(d.keys()))\n",
    "print(' '.join(list(map(lambda x: str(x), d.values()))))"
   ]
  },
  {
   "cell_type": "code",
   "execution_count": 79,
   "metadata": {},
   "outputs": [],
   "source": [
    "from collections import deque\n",
    "d= deque()\n",
    "cdict= {\n",
    "    'append': 'd.append(w[1])',\n",
    "    'appendleft': 'd.appendleft(w[1])',\n",
    "    'pop': 'd.pop()',\n",
    "    'popleft': 'd.popleft()'\n",
    "}\n",
    "\n",
    "for i in range(int(input())):\n",
    "    w= input().split()\n",
    "    eval(cdict[w[0]])\n",
    "\n",
    "print(' '.join(d))"
   ]
  },
  {
   "cell_type": "code",
   "execution_count": 22,
   "metadata": {},
   "outputs": [],
   "source": [
    "def count_substring(string, sub_string):\n",
    "    i, c= 0, 0\n",
    "    for i in range(len(string)- len(sub_string) +1):\n",
    "        if string[i: i+len(sub_string)]== sub_string: c= c+1\n",
    "    return c"
   ]
  },
  {
   "cell_type": "code",
   "execution_count": 23,
   "metadata": {},
   "outputs": [
    {
     "name": "stdout",
     "output_type": "stream",
     "text": [
      "ini\n",
      "nin\n",
      "ini\n",
      "nin\n",
      "ini\n",
      "3\n"
     ]
    }
   ],
   "source": [
    "string = input().strip()\n",
    "sub_string = input().strip()\n",
    "\n",
    "count = count_substring(string, sub_string)\n",
    "print(count)"
   ]
  },
  {
   "cell_type": "code",
   "execution_count": 1,
   "metadata": {},
   "outputs": [],
   "source": [
    "d= {\n",
    "    1:2,\n",
    "    3:2,\n",
    "    6:8,\n",
    "    9:8,\n",
    "    2:5,\n",
    "    8:5,\n",
    "    5: None\n",
    "}"
   ]
  },
  {
   "cell_type": "code",
   "execution_count": 24,
   "metadata": {},
   "outputs": [],
   "source": [
    "def treeDetails(d: dict):\n",
    "    nodes= d.keys()\n",
    "    parents= d.values()\n",
    "    nd= {}\n",
    "    for _ in nodes:\n",
    "        if d[_] != None:\n",
    "            if _ in parents:\n",
    "                nd[_]= 'inner'\n",
    "            else:\n",
    "                nd[_]= 'leaf'\n",
    "        else:\n",
    "            nd[_]= 'root'\n",
    "    nd= {_: nd[_] for _ in sorted(nd)}\n",
    "    return nd"
   ]
  },
  {
   "cell_type": "code",
   "execution_count": 26,
   "metadata": {},
   "outputs": [
    {
     "name": "stdout",
     "output_type": "stream",
     "text": [
      "(1, 'leaf')\n",
      "(2, 'inner')\n",
      "(3, 'leaf')\n",
      "(5, 'root')\n",
      "(6, 'leaf')\n",
      "(8, 'inner')\n",
      "(9, 'leaf')\n"
     ]
    }
   ],
   "source": [
    "for _ in treeDetails(d).items():\n",
    "    print(_)"
   ]
  },
  {
   "cell_type": "code",
   "execution_count": null,
   "metadata": {},
   "outputs": [],
   "source": []
  }
 ],
 "metadata": {
  "interpreter": {
   "hash": "427a62fac0819ccce0f03f81abed2b41dbb70c95dcd9b668ee48ddefcc4c4ac1"
  },
  "kernelspec": {
   "display_name": "Python 3.8.8 ('base')",
   "language": "python",
   "name": "python3"
  },
  "language_info": {
   "codemirror_mode": {
    "name": "ipython",
    "version": 3
   },
   "file_extension": ".py",
   "mimetype": "text/x-python",
   "name": "python",
   "nbconvert_exporter": "python",
   "pygments_lexer": "ipython3",
   "version": "3.8.8"
  },
  "orig_nbformat": 4
 },
 "nbformat": 4,
 "nbformat_minor": 2
}
